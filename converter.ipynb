{
 "cells": [
  {
   "metadata": {
    "collapsed": true
   },
   "cell_type": "markdown",
   "source": "# Unit of Measure Converter",
   "id": "c8b599b4467d3f7b"
  },
  {
   "metadata": {},
   "cell_type": "code",
   "outputs": [],
   "execution_count": null,
   "source": [
    "convertFrom = input(\"Enter starting unit of measure(inches, feet, yards): \")\n",
    "\n",
    "convertTo = input(\"Enter unit of measure to convert to (inches, feet, yards): \")\n",
    "\n",
    "numberOfInches = input(\"Enter starting measurement in inches: \")\n",
    "\n",
    "numberOfFeet = input(\"Enter starting measurement in feet: \")\n",
    "\n",
    "numberOfYards = input(\"Enter starting measurement in yards: \")"
   ],
   "id": "ba7f5aea56c57c54"
  }
 ],
 "metadata": {
  "kernelspec": {
   "display_name": "Python 3",
   "language": "python",
   "name": "python3"
  },
  "language_info": {
   "codemirror_mode": {
    "name": "ipython",
    "version": 2
   },
   "file_extension": ".py",
   "mimetype": "text/x-python",
   "name": "python",
   "nbconvert_exporter": "python",
   "pygments_lexer": "ipython2",
   "version": "2.7.6"
  }
 },
 "nbformat": 4,
 "nbformat_minor": 5
}
