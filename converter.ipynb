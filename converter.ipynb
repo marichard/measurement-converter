{
 "cells": [
  {
   "metadata": {
    "collapsed": true
   },
   "cell_type": "markdown",
   "source": "# Unit of Measure Converter",
   "id": "c8b599b4467d3f7b"
  },
  {
   "metadata": {
    "ExecuteTime": {
     "end_time": "2025-08-28T23:53:28.485326Z",
     "start_time": "2025-08-28T23:53:00.232186Z"
    }
   },
   "cell_type": "code",
   "source": [
    "convertFrom = input(\"Enter starting unit of measure(inches, feet, yards): \")\n",
    "\n",
    "convertTo = input(\"Enter unit of measure to convert to (inches, feet, yards): \")\n",
    "\n",
    "numberOfInches = input(\"Enter starting measurement in inches: \")\n",
    "\n",
    "numberOfFeet = input(\"Enter starting measurement in feet: \")\n",
    "\n",
    "numberOfYards = input(\"Enter starting measurement in yards: \")"
   ],
   "id": "ba7f5aea56c57c54",
   "outputs": [],
   "execution_count": 2
  },
  {
   "metadata": {
    "ExecuteTime": {
     "end_time": "2025-08-31T23:09:11.336445Z",
     "start_time": "2025-08-31T23:08:57.546026Z"
    }
   },
   "cell_type": "code",
   "source": [
    "convertFrom = input(\"Enter starting unit of measure(inches, feet, yards): \")\n",
    "\n",
    "convertTo = input(\"Enter unit of measure to convert to (inches, feet, yards): \")\n",
    "\n",
    "if convertFrom == \"inches\":\n",
    "    numberOfInches = int(input(\"Enter starting measurement in inches: \"))\n",
    "    if convertTo == \"feet\":\n",
    "        print(numberOfInches / 12)\n",
    "    elif convertTo == \"yards\":\n",
    "        print(numberOfInches / 36)\n",
    "    else:\n",
    "        print(\"Your input was incorrect.\")\n",
    "elif convertFrom == \"feet\":\n",
    "    numberOfFeet = int(input(\"Enter starting measurement in feet: \"))\n",
    "    if convertTo == \"inches\":\n",
    "        print(numberOfFeet * 12)\n",
    "    elif convertTo == \"yards\":\n",
    "        print(numberOfFeet / 3)\n",
    "    else:\n",
    "        print(\"Your input was incorrect.\")\n",
    "elif convertFrom == \"yards\":\n",
    "    numberOfYards = int(input(\"Enter starting measurement in yards: \"))\n",
    "    if convertTo == \"inches\":\n",
    "        print(numberOfYards * 36)\n",
    "    elif convertTo == \"feet\":\n",
    "        print(numberOfYards * 3)\n",
    "    else:\n",
    "        print(\"Your input was incorrect.\")\n",
    "else:\n",
    "    print(\"Your input was incorrect.\")"
   ],
   "id": "9ae8b0c84219604a",
   "outputs": [
    {
     "name": "stdout",
     "output_type": "stream",
     "text": [
      "3\n"
     ]
    }
   ],
   "execution_count": 1
  }
 ],
 "metadata": {
  "kernelspec": {
   "display_name": "Python 3",
   "language": "python",
   "name": "python3"
  },
  "language_info": {
   "codemirror_mode": {
    "name": "ipython",
    "version": 2
   },
   "file_extension": ".py",
   "mimetype": "text/x-python",
   "name": "python",
   "nbconvert_exporter": "python",
   "pygments_lexer": "ipython2",
   "version": "2.7.6"
  }
 },
 "nbformat": 4,
 "nbformat_minor": 5
}
