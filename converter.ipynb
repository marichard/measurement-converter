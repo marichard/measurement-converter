{
 "cells": [
  {
   "metadata": {
    "collapsed": true
   },
   "cell_type": "markdown",
   "source": "# Unit of Measure Converter",
   "id": "c8b599b4467d3f7b"
  },
  {
   "metadata": {},
   "cell_type": "code",
   "outputs": [],
   "execution_count": null,
   "source": [
    "convertFrom = input(\"Enter starting unit of measure(inches, feet, yards): \")\n",
    "\n",
    "convertTo = input(\"Enter unit of measure to convert to (inches, feet, yards): \")\n",
    "\n",
    "numberOfInches = input(\"Enter starting measurement in inches: \")\n",
    "\n",
    "numberOfFeet = input(\"Enter starting measurement in feet: \")\n",
    "\n",
    "numberOfYards = input(\"Enter starting measurement in yards: \")"
   ],
   "id": "ba7f5aea56c57c54"
  },
  {
   "metadata": {
    "ExecuteTime": {
     "end_time": "2025-08-22T02:29:46.747895Z",
     "start_time": "2025-08-22T02:29:35.546896Z"
    }
   },
   "cell_type": "code",
   "source": [
    "convertFrom = input(\"Enter starting unit of measure(inches, feet, yards): \")\n",
    "\n",
    "convertTo = input(\"Enter unit of measure to convert to (inches, feet, yards): \")\n",
    "\n",
    "if convertFrom == \"inches\":\n",
    "    numberOfInches = int(input(\"Enter starting measurement in inches: \"))\n",
    "    if convertTo == \"feet\":\n",
    "        print(numberOfInches / 12)\n",
    "    elif convertTo == \"yards\":\n",
    "        print(numberOfInches / 36)"
   ],
   "id": "9ae8b0c84219604a",
   "outputs": [
    {
     "name": "stdout",
     "output_type": "stream",
     "text": [
      "3.0\n"
     ]
    }
   ],
   "execution_count": 2
  }
 ],
 "metadata": {
  "kernelspec": {
   "display_name": "Python 3",
   "language": "python",
   "name": "python3"
  },
  "language_info": {
   "codemirror_mode": {
    "name": "ipython",
    "version": 2
   },
   "file_extension": ".py",
   "mimetype": "text/x-python",
   "name": "python",
   "nbconvert_exporter": "python",
   "pygments_lexer": "ipython2",
   "version": "2.7.6"
  }
 },
 "nbformat": 4,
 "nbformat_minor": 5
}
