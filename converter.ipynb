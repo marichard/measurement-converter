{
 "cells": [
  {
   "metadata": {
    "collapsed": true
   },
   "cell_type": "markdown",
   "source": "# Unit of Measure Converter",
   "id": "c8b599b4467d3f7b"
  },
  {
   "metadata": {
    "ExecuteTime": {
     "end_time": "2025-08-28T23:53:28.485326Z",
     "start_time": "2025-08-28T23:53:00.232186Z"
    }
   },
   "cell_type": "code",
   "source": [
    "convertFrom = input(\"Enter starting unit of measure(inches, feet, yards): \")\n",
    "\n",
    "convertTo = input(\"Enter unit of measure to convert to (inches, feet, yards): \")\n",
    "\n",
    "numberOfInches = input(\"Enter starting measurement in inches: \")\n",
    "\n",
    "numberOfFeet = input(\"Enter starting measurement in feet: \")\n",
    "\n",
    "numberOfYards = input(\"Enter starting measurement in yards: \")"
   ],
   "id": "ba7f5aea56c57c54",
   "outputs": [],
   "execution_count": 2
  },
  {
   "metadata": {
    "ExecuteTime": {
     "end_time": "2025-09-01T00:09:27.874657Z",
     "start_time": "2025-09-01T00:09:13.823755Z"
    }
   },
   "cell_type": "code",
   "source": [
    "convertFrom = input(\"Enter starting unit of measure(inches, feet, yards): \")\n",
    "\n",
    "convertTo = input(\"Enter unit of measure to convert to (inches, feet, yards): \")\n",
    "\n",
    "if convertFrom.lower() in [\"inches\",\"inch\",\"in\"]:\n",
    "    numberOfInches = int(input(\"Enter starting measurement in inches: \"))\n",
    "    if convertTo.lower() in [\"feet\",\"foot\",\"ft\"]:\n",
    "        print(\"Result: \" + str(numberOfInches) + \" inches = \" + str(round(numberOfInches / 12,2)) + \" feet\")\n",
    "    elif convertTo.lower() in [\"yards\",\"yard\",\"yd\",\"yds\"]:\n",
    "        print(\"Result: \" + str(numberOfInches) + \" inches = \" + str(round(numberOfInches / 36,2)) + \" yards\")\n",
    "    else:\n",
    "        print(\"Please Enter either Inches, Feet, or Yards.\")\n",
    "elif convertFrom.lower() in [\"feet\",\"foot\",\"ft\"]:\n",
    "    numberOfFeet = int(input(\"Enter starting measurement in feet: \"))\n",
    "    if convertTo.lower() in [\"inches\",\"inch\",\"in\"]:\n",
    "        print(\"Result: \" + str(numberOfFeet) + \" feet = \" + str(round(numberOfFeet / 12,2)) + \" inches\")\n",
    "    elif convertTo.lower() in [\"yards\",\"yard\",\"yd\",\"yds\"]:\n",
    "        print(\"Result: \" + str(numberOfFeet) + \" feet = \" + str(round(numberOfFeet / 3,2)) + \" yards\")\n",
    "    else:\n",
    "        print(\"Please Enter either Inches, Feet, or Yards.\")\n",
    "elif convertFrom.lower() in [\"yards\",\"yard\",\"yd\",\"yds\"]:\n",
    "    numberOfYards = int(input(\"Enter starting measurement in yards: \"))\n",
    "    if convertTo.lower() in [\"inches\",\"inch\",\"in\"]:\n",
    "        print(\"Result: \" + str(numberOfYards) + \" yards = \" + str(round(numberOfYards * 36)) + \" inches\")\n",
    "    elif convertTo.lower() in [\"feet\",\"foot\",\"ft\"]:\n",
    "        print(\"Result: \" + str(numberOfYards) + \" yards = \" + str(round(numberOfYards * 3)) + \" feet\")\n",
    "    else:\n",
    "        print(\"Please Enter either Inches, Feet, or Yards.\")\n",
    "else:\n",
    "    print(\"Please Enter either Inches, Feet, or Yards.\")"
   ],
   "id": "9ae8b0c84219604a",
   "outputs": [
    {
     "name": "stdout",
     "output_type": "stream",
     "text": [
      "Result: 5 feet = 1.67 yards\n"
     ]
    }
   ],
   "execution_count": 11
  }
 ],
 "metadata": {
  "kernelspec": {
   "display_name": "Python 3",
   "language": "python",
   "name": "python3"
  },
  "language_info": {
   "codemirror_mode": {
    "name": "ipython",
    "version": 2
   },
   "file_extension": ".py",
   "mimetype": "text/x-python",
   "name": "python",
   "nbconvert_exporter": "python",
   "pygments_lexer": "ipython2",
   "version": "2.7.6"
  }
 },
 "nbformat": 4,
 "nbformat_minor": 5
}
